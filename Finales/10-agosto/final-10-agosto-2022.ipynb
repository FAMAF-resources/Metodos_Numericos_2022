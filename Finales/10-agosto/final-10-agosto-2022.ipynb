{
 "cells": [
  {
   "cell_type": "markdown",
   "metadata": {},
   "source": [
    "# Métodos Numericos 2022\n",
    "\n",
    "## Final - 10 de Agosto de 2022 - Tema 1"
   ]
  },
  {
   "cell_type": "markdown",
   "metadata": {},
   "source": [
    "### No olvide ingresar su(s):\n",
    "\n",
    "**APELLIDO(S):**\n",
    "\n",
    "**NOMBRE(S):**"
   ]
  },
  {
   "cell_type": "markdown",
   "metadata": {},
   "source": [
    "Al **finalizar el examen**, Ud. tiene que **subir** la notebook al **Moodle** (aula virtual)\n",
    "\n",
    "https://famaf.aulavirtual.unc.edu.ar\n",
    "\n",
    "y enviar por email una copia de seguridad al profesor del teórico, Francisco A. Tamarit (Pancho)\n",
    "\n",
    "  [francisco.tamarit@unc.edu.ar](francisco.tamarit@unc.edu.ar)\n",
    "    \n",
    "Si por alguna eventualidad no puede subir el examen al Moodle, alternativamente, envíe el examen por email a los profesores del práctico de Julia, Oscar Reula oreula@unc.edu.ar y Juan I. Perotti juan.perotti@unc.edu.ar."
   ]
  },
  {
   "cell_type": "markdown",
   "metadata": {},
   "source": [
    "### Nota sobre la programación en Julia\n",
    "\n",
    "Recuerde que su notebook tiene que poder ser entendida por otra persona. Para ello:\n",
    "\n",
    "* Cuando crea conveniente, use texto Markdown para desarrollar o comentar una idea.\n",
    "\n",
    "* Si lo considera necesario, agregue comentarios a su código.\n",
    "\n",
    "* Realice gráficos que tengan etiquetas en los ejes y leyendas para cada curva o serie de puntos graficados, como así también un título apropiado.\n",
    "\n",
    "* Procure respetar reglas de buena programación:\n",
    "\n",
    "    * Use sangrías adecuadamente.\n",
    "\n",
    "    * Cuando sea posible, implemente funciones de caracter general, en vez de código específico a cada problema, facilitando así la reutilización de código.\n",
    "\n",
    "    * Implemente funciones que tengan los argumentos necesarios para su buen funcionamiento.\n",
    "   \n",
    "* **NOTA:** Durante la **corrección**, el comando `Kernel -> Restart & Run All` es ejecutado, de manera que la notebook es reiniciada y todas sus celdas son recalculadas *a limpio*, borrando todos los datos anteriores. Por lo tanto, **antes de entregar**, asegurese de ejecutar el comando `Kernel -> Restart & Run All` del menú, cerciórandose que todas las celdas se ejecutan de forma debida."
   ]
  },
  {
   "cell_type": "code",
   "execution_count": null,
   "metadata": {},
   "outputs": [],
   "source": [
    "using Plots\n",
    "using LaTeXStrings\n",
    "#using DataFrames\n",
    "#using CSV"
   ]
  },
  {
   "cell_type": "code",
   "execution_count": null,
   "metadata": {},
   "outputs": [],
   "source": [
    "#import Pkg; Pkg.add(\"DataFrames\")"
   ]
  },
  {
   "cell_type": "markdown",
   "metadata": {},
   "source": [
    "## Problema 1\n",
    "\n",
    "Realice los cálculos empleando los métodos del **trapecio** y de **Simpson**.\n",
    "\n",
    "**a)** Para cada método, escriba un programa que calcule una aproximación $A_n$ a la integral\n",
    "$$\n",
    "I = \\int_0^{\\pi/2} x^2 \\cos(x) dx = (\\pi /2)^2 - 2            \n",
    "$$\n",
    "para distintos valores del número de intervalos $n$ donde se evaluará la función que se desea integrar. \n",
    "\n",
    "**b)** Grafique la función a integrar en el intervalo de interés.\n",
    "\n",
    "**c)** Para cada método, calcule un vector de componentes $A_n$ para $n = 2^k $ con $k=1,...,12$.\n",
    "\n",
    "**d)** Para cada método y para los mismos valores de $n$, calcule un vector cuyas componentes sean los errores relativos $\\varepsilon_n = |A_n - I|/|I|$.\n",
    "\n",
    "**e)** Teniendo en cuenta que $h=\\pi/(2n)$, verifique para los diferentes valores de $h$ (i.e. de $n$) que el cociente de precisión definido como\n",
    "$$\n",
    "Q = \\frac{\\varepsilon(h)}{\\varepsilon(h/2)} \\, ,\n",
    "$$\n",
    "toma un valor aproximado a $4$ cuando se usa la regla del **trapecio**, y un valor aproximado a $16$ cuando se usa la regla de **Simpson**. Teniendo en cuenta la expresión del error de truncamiento en cada caso, justifique este resultado.\n",
    "\n",
    "**f)** Genere un gráfico **log-log** comparativo de los errores relativos. Es decir, en un mismo gráfico, grafique  el error relativo $\\epsilon_n$ vs $n$ obtenido con cada método. Observe que\n",
    "$$\n",
    "\\epsilon_n \\approx Cn^\\alpha \\Rightarrow \\log \\epsilon_n = \\alpha \\log n + \\ln C.\n",
    "$$\n",
    "donde $C$ es una constante.\n",
    "Esto significa que una dependencia tipo ley de potencias aparece como una línea recta en un gráfico **log-log**. Use el gráfico para estimar el exponente $\\alpha$ en las leyes de potencia. Agrege al gráfico curvas de la forma $f(n)=A \\times n^{-\\beta}$ vs $n$, siendo $\\beta$ el exponente apropiado para cada caso.\n",
    "\n",
    "**g)** Justifique los valores de $\\beta$ hallados."
   ]
  },
  {
   "cell_type": "markdown",
   "metadata": {},
   "source": [
    "**Rta 1.a)**"
   ]
  },
  {
   "cell_type": "code",
   "execution_count": null,
   "metadata": {},
   "outputs": [],
   "source": []
  },
  {
   "cell_type": "markdown",
   "metadata": {},
   "source": [
    "## Problema 2\n",
    "\n",
    "*Romeo y Julieta: una historia de amor dinámica*.\n",
    "\n",
    "Aquí se modelan las emociones oscilantes que sienten Romeo y su bella Julieta mientras se alimentan mutuamente de la pasión y la indiferencia.\n",
    "\n",
    "Las variables se definen de la siguiente manera. Sean $R(t)$ los sentimientos de Romeo por Julieta en el momento $t$ y $J(t)$ los sentimientos de Julieta por Romeo en el momento $t$. Supongamos que los valores positivos de $R$ y $J$ significan amor, pasión y atracción, mientras que los valores negativos significan disgusto y $R = J = 0$ significa indiferencia.\n",
    "\n",
    "En la versión más simple del modelo, el cambio de sentimientos de Julieta depende sólo de los sentimientos actuales de Romeo y viceversa. Entonces podemos proponer un modelo de la siguiente manera:\n",
    "$$\n",
    " \\frac{dR}{dt} = a J\n",
    "$$\n",
    "\n",
    "\n",
    "$$\n",
    " \\frac{dJ}{dt} = -b R\n",
    " \\label{Jt}\n",
    "$$\n",
    "\n",
    "donde los parámetros $a$ y $b$ son números reales positivos y tienen unidades de $1/tiempo$.\n",
    "\n",
    "**a)** Escriba un programa a los fines de resolver el problema de valor inicial $n$-dimensional:\n",
    "$$\n",
    "y^{\\prime} = f(t,y), \\qquad a\\le t\\le b, \\qquad y(a)=\\alpha\n",
    "$$\n",
    "que utilice el método de **Euler**\n",
    "\n",
    "\\begin{eqnarray*}\n",
    "h   &=& (b-a)/(n-1) \\\\\n",
    "t_1 &=& a \\\\\n",
    "t_n &=& b \\\\\n",
    "w_1 &=& \\alpha, \\\\\n",
    "t_{i+1}&=& t_i + h\n",
    "w_{i+1}&=& w_i + h f(t_i,w_i) \\\\\n",
    "\\end{eqnarray*}\n",
    "\n",
    "para $i\\in\\{1,2,...,n-1\\}$, y donde\n",
    "\n",
    "$$y         =(y_1,y_2, ... ,y_n)$$\n",
    "\n",
    "$$y^{\\prime}=(y^{\\prime}_1,y^{\\prime}_2,..., y^{\\prime}_n)$$\n",
    "\n",
    "$$f(t,y)    =(f_1(t,y),f_2(t,y),..., f_n(t,y)) $$\n",
    "\n",
    "$$\\alpha    =(\\alpha_1,\\alpha_2,..., \\alpha_n) \\in \\mathbb{R}^n$$\n",
    "\n",
    "El programa debe requerir los siguientes datos de entrada:\n",
    "* el intervalo temporal de integración $(a,b)$,\n",
    "* el valor inicial, $\\alpha$, \n",
    "* el número de pasos de integración $n$,\n",
    "* y un vector $p=(p_1,p_2,...)$ de parámetros del lado derecho de la ODE.\n",
    "\n",
    "El programa debe retornar\n",
    "* un vector de tiempos $t_i$,\n",
    "* y una matriz de aproximaciones $w_{ji}\\approx y_j(t_i)$\n",
    "\n",
    "**b)** Utilice el programa del punto **a)** (el de Euler) para resolver el problema de valor inicial:\n",
    "\n",
    "$$y^{\\prime}_1 = p_1 y_2$$\n",
    "\n",
    "$$y^{\\prime}_2 = -p_2 y_1$$\n",
    "\n",
    "$$ 0 \\le t \\le 50$$\n",
    "\n",
    "$$\\alpha_1 = 3.14$$\n",
    " \n",
    "$$\\alpha_2 = -0.5$$\n",
    "\n",
    "con $h=0.01$, $p_1 = a = 0.2$ y $p_2 = b = 0.4$.\n",
    "\n",
    "**c)** Grafique la aproximación a la solución del problema de valor inicial planteado anteriormente. Es decir, en un mismo gráfico, grafique $y_1(t)$ vs $t$ e $y_2(t)$ vs $t$ para $0 \\le t \\le 50$.\n",
    "\n",
    "**d)** Grafique $y_2$ en función de $y_1$. \n",
    "\n",
    "**e)** Repita los incisos **c)**-**d)** pero con el método de **Runge-Kutta de cuarto orden**\n",
    "\n",
    "\\begin{eqnarray*}\n",
    "h &=& (b-a)/(n-1), \\\\\n",
    "t_1 &= &a, \\\\\n",
    "t_n &= &b, \\\\\n",
    "w_1 &= &\\alpha, \\\\\n",
    "k_1 &= & h  f(t_i,w_i), \\\\\n",
    "k_2 &= & h  f(t_i + h/2, w_i + k_1/2), \\\\\n",
    "k_3 &= & h  f(t_i + h/2, w_i + k_2/2)), \\\\\n",
    "k_4 &= & h  f(t_i + h, w_i + k_3), \\\\\n",
    "w_{i+1}&=& w_i + \\frac{1}{6} (k_1 + 2k_2 + 2k_3 + k_4)\n",
    "\\end{eqnarray*}\n",
    "\n",
    "para $i\\in\\{1,2,...,n-1\\}$.\n",
    "\n",
    "**f)** Comente los resultados obtenidos, en particular lo observado al comparar los resultados obtenidos con ámbos métodos. Ayuda: el problema que acaba de resolver es el péndulo matemático, que es la aproximación de pequeñas amplitudes del péndulo propiamente dicho. Sus soluciones son órbitas cerradas. Puede probar con varios pasos temporales y tiempos finales."
   ]
  },
  {
   "cell_type": "markdown",
   "metadata": {},
   "source": [
    "**Rta 2.a)**"
   ]
  },
  {
   "cell_type": "code",
   "execution_count": null,
   "metadata": {},
   "outputs": [],
   "source": []
  }
 ],
 "metadata": {
  "@webio": {
   "lastCommId": null,
   "lastKernelId": null
  },
  "kernelspec": {
   "display_name": "Julia 1.7.2",
   "language": "julia",
   "name": "julia-1.7"
  },
  "language_info": {
   "file_extension": ".jl",
   "mimetype": "application/julia",
   "name": "julia",
   "version": "1.7.2"
  }
 },
 "nbformat": 4,
 "nbformat_minor": 4
}
