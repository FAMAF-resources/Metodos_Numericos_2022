{
 "cells": [
  {
   "cell_type": "markdown",
   "metadata": {},
   "source": [
    "# Métodos Numericos 2022\n",
    "\n",
    "## Parcial recuperatorio 2 - Tema 2 - 16 de Junio de 2022"
   ]
  },
  {
   "cell_type": "markdown",
   "metadata": {},
   "source": [
    "### No olvide ingresar su(s):\n",
    "\n",
    "**APELLIDO(S):**\n",
    "\n",
    "**NOMBRE(S):**"
   ]
  },
  {
   "cell_type": "markdown",
   "metadata": {},
   "source": [
    "Al **finalizar el examen**, Ud. tiene que **subir** la notebook al **Moodle** (aula virtual)\n",
    "\n",
    "https://famaf.aulavirtual.unc.edu.ar\n",
    "\n",
    "y enviar por email una copia de seguridad al profesor del teórico, Francisco A. Tamarit (Pancho)\n",
    "\n",
    "  [francisco.tamarit@unc.edu.ar](francisco.tamarit@unc.edu.ar)\n",
    "    \n",
    "Si por alguna eventualidad no puede subir el examen al Moodle, alternativamente, envíe el examen por email a los profesores del práctico de Julia, Oscar Reula `oreula@unc.edu.ar` y Juan I. Perotti `juan.perotti@unc.edu.ar`."
   ]
  },
  {
   "cell_type": "markdown",
   "metadata": {},
   "source": [
    "### Nota sobre la programación en Julia\n",
    "\n",
    "Recuerde que su notebook tiene que poder ser entendida por otra persona. Para ello:\n",
    "\n",
    "* Cuando crea conveniente, use texto Markdown para desarrollar o comentar una idea.\n",
    "\n",
    "* Si lo considera necesario, agregue comentarios a su código.\n",
    "\n",
    "* Realice gráficos que tengan etiquetas en los ejes y leyendas para cada curva o serie de puntos graficados, como así también un título apropiado.\n",
    "\n",
    "* Procure respetar reglas de buena programación:\n",
    "\n",
    "    * Use sangrías adecuadamente.\n",
    "\n",
    "    * Cuando sea posible, implemente funciones de caracter general, en vez de código específico a cada problema, facilitando así la reutilización de código.\n",
    "\n",
    "    * Implemente funciones que tengan los argumentos necesarios para su buen funcionamiento.\n",
    "   \n",
    "* **NOTA:** Durante la **corrección**, el comando `Kernel -> Restart & Run All` es ejecutado, de manera que la notebook es reiniciada y todas sus celdas son recalculadas *a limpio*, borrando todos los datos anteriores. Por lo tanto, **antes de entregar**, asegurese de ejecutar el comando `Kernel -> Restart & Run All` del menú, cerciórandose que todas las celdas se ejecutan de forma debida."
   ]
  },
  {
   "cell_type": "code",
   "execution_count": null,
   "metadata": {},
   "outputs": [],
   "source": [
    "using Plots\n",
    "using LaTeXStrings\n",
    "using DataFrames\n",
    "using CSV"
   ]
  },
  {
   "cell_type": "markdown",
   "metadata": {},
   "source": [
    "## Problema 1\n",
    "\n",
    "Se estudió la difusión de un átomo de plata ($Ag$) sobre una superficie de rutilo ($TiO_2$).\n",
    "La siguiente figura muestra imágenes de diferentes posiciones del átomo de plata (vistas de arriba y de perfil) mientras difunde de un sitio a su vecino sobre la superficie de rutilo.\n",
    "\n",
    "![](rutilo.png)\n",
    "\n",
    "La tabla de datos especificada en el archivo `energia-vs-desplazamiento.csv` indica los valores que toma la energía del sistema en función de la posición del atomo de plata para 11 posiciones a lo largo del camino por el cual difunde. \n",
    "\n",
    "El objetivo de este problema es utilizar los polinomios interpolantes de Lagrange y de Newton de grado $n=10$ para calcular el camino de difusión de la plata sobre rutilo.\n",
    " \n",
    "Para ello:\n",
    "\n",
    "**a)** Utilice los paquetes `CSV` y `DataFrames` para cargar y visualizar la tabla de posiciones y las energías.\n",
    "\n",
    "**b)** Utilice la forma de Lagrange para calcular el polinomio interpolante de los valores de la tabla.\n",
    "\n",
    "**c)** Repita utilizando la forma de Newton de calcular el polinomio interpolante.\n",
    "\n",
    "**d)** Utilice el polinomo interpolante calculado en **b** para interpolar los valores de la tabla en 101 valores de $x$ equiespaciados en el intervalo $[0,1]$.\n",
    "\n",
    "**e)** Repita el inciso anterior pero con con el polinomio calculado en **c**.\n",
    "\n",
    "**f)** Grafique con puntos los datos de la tabla y con curvas las interpolaciones calculadas en los incisos **b)** y **c)**.\n",
    "\n",
    "**Ayuda 1:** Para bajar un archivo desde la notebook, recuerde el ejemplo:\n",
    "\n",
    "    # Ejemplo de como bajar un archivo.\n",
    "    separador = \"/\" # En Linux\n",
    "    #separador = \"\\\" # En Windows\n",
    "    download(\n",
    "        \"https://raw.githubusercontent.com/reula/Metodos_Numericos_2022/main/Guias/pos.dat\", # Bajamos el archivo pos.dat del repositorio en el que están las guías.\n",
    "        pwd() * separador * \"pos.dat\" # Guardamos lo bajado en un archivo llamado pos.dat en el directorio local.\n",
    "    )\n",
    "    \n",
    "**Ayuda 2:** Para cargar y convertir un archivo `.CSV` a un `DataFrame`\n",
    "\n",
    "    df = DataFrame(CSV.File(\"energia-vs-posicion.csv\"))\n",
    "    \n",
    "**Ayuda 3:** Para acceder, por ejemplo, al vector asociado a la columna `energía` del `DataFrame`, escriba\n",
    "\n",
    "    df.energia"
   ]
  },
  {
   "cell_type": "code",
   "execution_count": null,
   "metadata": {},
   "outputs": [],
   "source": []
  },
  {
   "cell_type": "markdown",
   "metadata": {},
   "source": [
    "## Problema 2\n",
    "\n",
    "\n",
    "### Atractor de Lorenz.\n",
    "\n",
    "Nos interesa resolver un problema de valor inicial **d-dimensional** dado por\n",
    "\n",
    "$$\n",
    "\\frac{dy}{dt} = f(t,y), \\qquad a\\le t\\le b, \\qquad y(a)=y_0\n",
    "$$\n",
    "\n",
    "donde \n",
    "\n",
    "* $y(t) = (y_1(t),...,y_d(t)) \\in \\mathbb{R}^d$ para cada $t\\in [a,b]$.\n",
    "\n",
    "* $y_i:[a,b]\\ni t \\to y_i(t) \\in \\mathbb{R}$ para cada $i\\in \\{1,2,...,d\\}$.\n",
    "\n",
    "* $y_0 = (y_{01},...,y_{0d}) \\in \\mathbb{R}^d$ es la condición inicial, i.e. $y(t=a) = y_0$.\n",
    "\n",
    "* $\\frac{dy}{dt} = \\big(\\frac{dy_1}{dt},...,\\frac{dy_d}{dt}\\big)$.\n",
    "\n",
    "* $f_i : \\mathbb{R}^d \\times [a,b] \\ni (y,t) \\to f_i(y,t) \\in \\mathbb{R}$ para cada $i\\in \\{1,...,d\\}$.\n",
    "\n",
    "* $f = (f_1,...,f_d)$.\n",
    "\n",
    "Para ello:\n",
    "\n",
    "**a)** Escriba una función que compute la evolución temporal de un problema de valor incial, donde pueda utilizarse a elección, o bien el método de **Euler** o bien el método de **Runge-Kutta de orden 4**.\n",
    "\n",
    "Dicha función debe aceptar los siguientes argumentos:\n",
    "\n",
    "* El método de integración.\n",
    "* La función $f(t,y,p)$, (donde $p$ define parámetros extra que puede tener $f$ como argumentos).\n",
    "* El valor inicial $y_0$.\n",
    "* El límite inferior del intervalo temporal $a$.\n",
    "* El límite superior del intervalo temporal $b$.\n",
    "* El número de pasos de integración $n$ (que define el paso de integración $h=(b-a)/(n-1)$).\n",
    "\n",
    "También, debe retornar:\n",
    "\n",
    "* Un vector $t$ de tiempos $t_i$ para $i\\in \\{1,...,n\\}$ tal que $t_1=a$, $t_n=b$ y $t_{i+1}-t_i=h$ para $i<n$.\n",
    "* Y una matriz $w$ de entradas $w_{ji} \\approx y_j(t_i)$ para $j\\in \\{1,...,d\\}$.\n",
    "\n",
    "**b)** Escriba funciones que implementen pasos individuales de los métodos de **Euler** y **Runge-Kutta**. \n",
    "\n",
    "Luego, **con cada método**:\n",
    "\n",
    "**c)** Compute una aproximación numérica del siguiente problema de valores iniciales propuesto por *Lorenz*:\n",
    "\n",
    "$\\frac{dy_1}{dt}=p_1(y_2-y_1)$\n",
    "\n",
    "$\\frac{dy_2}{dt}=y_1(p_2-y_3)-y_2$\n",
    "\n",
    "$\\frac{dy_3}{dt}=y_1y_2-p_3y_3$\n",
    "\n",
    "donde $y_{0} = (50,50,50)$, $0 \\le t \\le 20$, $h=0.001$ y $p=(p_1,p_2,p_3)=(10,28,8/3)$. \n",
    "\n",
    "**d)** Grafique simultaneamente las curvas $y_1(t)$ vs $t$, $y_2(t)$ vs $t$ e $y_3(t)$ vs $t$ obtenidas.\n",
    "\n",
    "**e)** Grafique simultaneamente, y de manera paramétrica, las curvas $y_2(t)$ vs $y_1(t)$, $y_3(t)$ vs $y_1(t)$, y $y_3(t)$ vs $y_2(t)$.\n",
    "\n",
    "**NOTA:** No se asuste si las trayectorias se ven caóticas.\n",
    "\n",
    "**f)** Comente los resultados obtenidos, en particular los  gráficos de los puntos **c)** y **d)**."
   ]
  },
  {
   "cell_type": "code",
   "execution_count": null,
   "metadata": {},
   "outputs": [],
   "source": []
  }
 ],
 "metadata": {
  "@webio": {
   "lastCommId": null,
   "lastKernelId": null
  },
  "kernelspec": {
   "display_name": "Julia 1.7.2",
   "language": "julia",
   "name": "julia-1.7"
  },
  "language_info": {
   "file_extension": ".jl",
   "mimetype": "application/julia",
   "name": "julia",
   "version": "1.7.2"
  }
 },
 "nbformat": 4,
 "nbformat_minor": 4
}
