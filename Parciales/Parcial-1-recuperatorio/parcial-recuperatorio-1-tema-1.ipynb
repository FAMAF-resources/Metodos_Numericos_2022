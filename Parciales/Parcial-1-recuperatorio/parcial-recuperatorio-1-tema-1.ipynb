{
 "cells": [
  {
   "cell_type": "markdown",
   "metadata": {},
   "source": [
    "# Métodos Numericos 2022\n",
    "\n",
    "## Parcial recuperatorio 1 - Tema 1 - 16 de Junio de 2022"
   ]
  },
  {
   "cell_type": "markdown",
   "metadata": {},
   "source": [
    "### No olvide ingresar su(s):\n",
    "\n",
    "**APELLIDO(S):**\n",
    "\n",
    "**NOMBRE(S):**"
   ]
  },
  {
   "cell_type": "markdown",
   "metadata": {},
   "source": [
    "Al **finalizar el examen**, Ud. tiene que **subir** la notebook al **Moodle** (aula virtual)\n",
    "\n",
    "https://famaf.aulavirtual.unc.edu.ar\n",
    "\n",
    "y enviar por email una copia de seguridad al profesor del teórico, Francisco A. Tamarit (Pancho)\n",
    "\n",
    "  [francisco.tamarit@unc.edu.ar](francisco.tamarit@unc.edu.ar)\n",
    "    \n",
    "Si por alguna eventualidad no puede subir el examen al Moodle, alternativamente, envíe el examen por email a los profesores del práctico de Julia, Oscar Reula `oreula@unc.edu.ar` y Juan I. Perotti `juan.perotti@unc.edu.ar`."
   ]
  },
  {
   "cell_type": "markdown",
   "metadata": {},
   "source": [
    "### Nota sobre la programación en Julia\n",
    "\n",
    "Recuerde que su notebook tiene que poder ser entendida por otra persona. Para ello:\n",
    "\n",
    "* Cuando crea conveniente, use texto Markdown para desarrollar o comentar una idea.\n",
    "\n",
    "* Si lo considera necesario, agregue comentarios a su código.\n",
    "\n",
    "* Realice gráficos que tengan etiquetas en los ejes y leyendas para cada curva o serie de puntos graficados, como así también un título apropiado.\n",
    "\n",
    "* Procure respetar reglas de buena programación:\n",
    "\n",
    "    * Use sangrías adecuadamente.\n",
    "\n",
    "    * Cuando sea posible, implemente funciones de caracter general, en vez de código específico a cada problema, facilitando así la reutilización de código.\n",
    "\n",
    "    * Implemente funciones que tengan los argumentos necesarios para su buen funcionamiento.\n",
    "   \n",
    "* **NOTA:** Durante la **corrección**, el comando `Kernel -> Restart & Run All` es ejecutado, de manera que la notebook es reiniciada y todas sus celdas son recalculadas *a limpio*, borrando todos los datos anteriores. Por lo tanto, **antes de entregar**, asegurese de ejecutar el comando `Kernel -> Restart & Run All` del menú, cerciórandose que todas las celdas se ejecutan de forma debida."
   ]
  },
  {
   "cell_type": "code",
   "execution_count": null,
   "metadata": {},
   "outputs": [],
   "source": [
    "using Plots\n",
    "using LaTeXStrings\n",
    "using DataFrames\n",
    "using CSV"
   ]
  },
  {
   "cell_type": "markdown",
   "metadata": {},
   "source": [
    "## Problema 1\n",
    "\n",
    "Verifique que la recurrencia\n",
    "$$\n",
    "x_{n+1} = x_n + 1/n^2, \\; x_1 = 0,\\; n=1,2,..., \\;\\;\\; (1)\n",
    "$$\n",
    "converge a $\\pi^2/6$, de manera que el error absoluto decae como\n",
    "$$\n",
    "|\\sqrt{6x_n}-\\pi| \\approx 1/n, \\;\\;\\; (2)\n",
    "$$\n",
    "Para ello:\n",
    "\n",
    "**a)** Implemente un una función que calcule la recuerrencia y retorne un valor de la misma una vez que el valor absoluto de la diferencia entre dos valores consecutivos de la iteración es menor a algún valor dado como argumento de la misma. La función deberá retornar el valor del último término de la recurrencia y el número de recurrencias efectuados para llegar a la convergencia estimada.\n",
    "\n",
    "**IMPORTANTE:** Agregue a la función alguna condición de stop en caso de que el número de interaciones supere cierto valor (ej. cuando $n>10^6$) para evitar que el algoritmo corra indefinidamente.\n",
    "\n",
    "**b)** Verifique que para $n=10^6$ el error es del orden de $10^{-6}$.\n",
    "\n",
    "**c)** Implemente una segunda la función (modificación de la primera) para que retorne un vector de componentes $y_k = x_{2^k}$para $k=1,2,...$; es decir, que guarde los valores de $x_n$ para valores exponencialmente espaciados de $n$ dados por $n=2^k$.\n",
    "\n",
    "**e)** Use el vector calculado en **c)** para graficar en escala log-log, con puntos y paramétricamente en función de $k$, los errores absolutos $\\varepsilon_n = |\\sqrt{6x_n}-\\pi| = |\\sqrt{6y_k}-\\pi|$ vs $n=2^k$. Ejecute la función con argumentos tales que el error del último valor de la sucesión guardado sea menor a $10^{-8}$\n",
    "\n",
    "**f)** Incluya en el gráfico del inciso **e)** la curva $1/n$ vs $n$, para corroborar que coincide aproximadamente con los puntos, y por ende el comportamiento aproximado indicado por la ecuación (1)."
   ]
  },
  {
   "cell_type": "code",
   "execution_count": null,
   "metadata": {},
   "outputs": [],
   "source": []
  },
  {
   "cell_type": "markdown",
   "metadata": {},
   "source": [
    "## Problema 2\n",
    "\n",
    "Encuentre el punto de la curva $y(x) = \\ln(x)$ que es más cercano al origen. Para ello, plantee la distancia de un punto $(x,y)$ al origen y busque el mínimo de dicha función, es decir un cero de la derivada primera. Para ello, conviene notar lo siguiente. La distancia $d$ puede escribirse en función de $x$:\n",
    "$$\n",
    "d(x) = \\sqrt{x^2+\\ln^2(x)}\n",
    "$$\n",
    "Un mínimo de $d$ es también un mínimo de\n",
    "$$\n",
    "g(x) = x^2 + \\ln^2(x).\n",
    "$$\n",
    "Luego, la derivada de $g$ sería la función cuya raíz estamos buscando\n",
    "$$\n",
    "g'(x)=2x+2\\frac{\\ln(x)}{x}.\n",
    "$$\n",
    "La función $g'$ posee la misma raíz que\n",
    "$$\n",
    "f(x) = x^2 +  \\ln(x).\n",
    "$$\n",
    "Luego, para encontrar el valor de $x$ al cuál ocurre la mínima distancia, basta con encontrar la raíz de $f$.\n",
    "\n",
    "**a)** Escriba funciones que permitan obtener una aproximación numérica a una raíz $x^*$ de cierta función $f:x\\to f(x)$, implementando los siguientes métodos de búsqueda de raíces:\n",
    "\n",
    "* bisección,\n",
    "* secante,\n",
    "* Newton-Raphson.\n",
    "\n",
    "Los datos de entrada serán los siguientes:\n",
    "\n",
    "* los extremos del intervalo, $a_0$ y $b_0$ , para bisección y secante.\n",
    "* la aproximación inicial $p_0$ a la raíz buscada, para Newton-Raphson.\n",
    "* la tolerancia en $x$, `tolx`,\n",
    "* la tolerancia en $f(x)$, `tolf`,\n",
    "* el número máximo de iteraciones $n_{\\max}$.\n",
    "\n",
    "Los algoritmos que implementan éstos métodos deberán detenerse cuando el error relativo $x$ sea menor que `tolx` **y** el error absoluto en $f(x)$ sea menor a `tolf`, **o** cuando el número de iteraciones $i$ alcance el valor $n_{\\max}$.\n",
    "El programa debe retornar los siguientes valores finales:\n",
    "* un booleano indicando si el algoritmo convergió o no,\n",
    "* el número $n$ de iteraciones realizadas,\n",
    "* un vector de componentes $p_1,...,p_n$,\n",
    "* un vector de componentes $f(p_1),f(p_2),...,f(p_n)$, y\n",
    "* un vector de estimaciones $|p_i-p_{i+1}|/|p_{i+1}|$ de los errores relativos $|p_i-x^*|/|x^*|$ en $x$ para $i=1,...,n$.\n",
    "\n",
    "**b)** Grafique la función que queremos estudiar:\n",
    "$$y(x) = \\ln(x)$$\n",
    "en el intervalo $[0,2]$.\n",
    "\n",
    "**c)** Grafique la función a la cual deseamos encontrarle la raíz:\n",
    "$$f(x) = x^2 + \\ln(x)$$\n",
    "en el intervalo $[0,2]$ para las $x$ y $[−5,5]$ para las $y$. \n",
    "Grafique también la primera derivada $f'$ y la segunda derivada $f''$ en un mismo gráfico. Cada curva debe tener diferente color.\n",
    "\n",
    "Para cada uno de los métodos implementados en **a)**:\n",
    "\n",
    "**d)** Encuentre una estimación a la raíz de la función $f$, usando $a = 0.1$, $b = 2$, $p_1 = 1$, `tolx` $= 10^{-6}$, `tolf` $= 10^{−7}$ y $n_{\\max} = 100$ según corresponda. \n",
    "\n",
    "**e)**  Grafique el error relativo en $x$ vs el número de iteración $n$, con escala lineal en $x$ y logarítmica en $y$. \n",
    "\n",
    "**f)** Comente los resultados obtenidos. Explique en particular en detalle porqué se observan diferentes comportamientos para cada método.\n",
    "\n",
    "**Nota:** En el gráfico del punto **e)** no parecerá que el punto de menor distancia es el encontrado. Eso se debe a que los gráficos (a menos que se solicite) no mantienen los ejes verticales y horizontales con los tamaños correspondientes."
   ]
  },
  {
   "cell_type": "code",
   "execution_count": null,
   "metadata": {},
   "outputs": [],
   "source": []
  }
 ],
 "metadata": {
  "@webio": {
   "lastCommId": null,
   "lastKernelId": null
  },
  "kernelspec": {
   "display_name": "Julia 1.7.2",
   "language": "julia",
   "name": "julia-1.7"
  },
  "language_info": {
   "file_extension": ".jl",
   "mimetype": "application/julia",
   "name": "julia",
   "version": "1.7.2"
  }
 },
 "nbformat": 4,
 "nbformat_minor": 4
}
